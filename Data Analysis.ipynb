{
 "cells": [
  {
   "cell_type": "markdown",
   "metadata": {},
   "source": [
    "# Import Libraries "
   ]
  },
  {
   "cell_type": "code",
   "execution_count": 142,
   "metadata": {},
   "outputs": [],
   "source": [
    "import pandas as pd \n",
    "import numpy as np\n",
    "import re, string\n",
    "import nltk\n",
    "from nltk.stem.porter import *\n",
    "from sklearn.cluster import KMeans\n",
    "from sklearn.metrics import silhouette_score\n",
    "from sklearn.feature_extraction.text import TfidfVectorizer \n",
    "import matplotlib.pyplot as plt \n",
    "import collections\n",
    "import seaborn as sns "
   ]
  },
  {
   "cell_type": "markdown",
   "metadata": {},
   "source": [
    "# Load Data"
   ]
  },
  {
   "cell_type": "code",
   "execution_count": 22,
   "metadata": {},
   "outputs": [],
   "source": [
    "df_titles = pd.read_csv('Article_Names.csv')  #load data into a dataframe\n",
    "list_titles = df_titles['Article Title'] #create list of article titles "
   ]
  },
  {
   "cell_type": "markdown",
   "metadata": {},
   "source": [
    "# Pre-Processing Data"
   ]
  },
  {
   "cell_type": "code",
   "execution_count": 23,
   "metadata": {},
   "outputs": [],
   "source": [
    "#This function lowercases and stems words and removes punctuation and stopwords \n",
    "#Returns a list of strings \n",
    "def preprocess(titles): \n",
    "    \n",
    "    stemmer = PorterStemmer() #stemmer \n",
    "    stopwords = nltk.corpus.stopwords.words('english') #list of stopwords\n",
    "    \n",
    "    processed_titles = []\n",
    "    for title in titles:\n",
    "        #lowercases words \n",
    "        title = title.lower().strip()\n",
    "        #removes punctuations using regex \n",
    "        title = re.sub(r'[^\\w\\s]','', title)\n",
    "        title = title.split()\n",
    "        \n",
    "        processed_words = []\n",
    "        for word in title:\n",
    "            #removes stopwords and stems word\n",
    "            if word not in stopwords:\n",
    "                processed_words.append(stemmer.stem(word))\n",
    "        \n",
    "        \n",
    "        processed_titles.append(' '.join(processed_words)) \n",
    "    \n",
    "    return processed_titles\n",
    "                \n",
    "                \n",
    "        "
   ]
  },
  {
   "cell_type": "markdown",
   "metadata": {},
   "source": [
    "# Feature Generation"
   ]
  },
  {
   "cell_type": "code",
   "execution_count": 51,
   "metadata": {},
   "outputs": [],
   "source": [
    "processed_titles = preprocess(list_titles)\n",
    "vectorizer = TfidfVectorizer(use_idf = True)\n",
    "features = vectorizer.fit_transform(processed_titles).toarray() #generate a tf-idf vector "
   ]
  },
  {
   "cell_type": "markdown",
   "metadata": {},
   "source": [
    "# K-Means Clustering"
   ]
  },
  {
   "cell_type": "code",
   "execution_count": 52,
   "metadata": {},
   "outputs": [
    {
     "name": "stdout",
     "output_type": "stream",
     "text": [
      "2 0.001936937752596225\n",
      "3 0.00272541071708876\n",
      "4 0.0023771092165205173\n",
      "5 0.0026318895437390916\n",
      "6 0.0036208231682994508\n",
      "7 0.003623235254759373\n",
      "8 0.0048392728485729085\n",
      "9 0.004090499345093416\n",
      "10 0.004313758369843795\n",
      "11 0.0031837756828562826\n",
      "12 0.003465474558874619\n",
      "13 0.00348180490002583\n",
      "14 0.003966518129211502\n",
      "15 0.004458336732950941\n",
      "16 0.004005657961285879\n",
      "17 0.004405023925238152\n",
      "18 0.005076127745440575\n",
      "19 0.004148689996154069\n"
     ]
    }
   ],
   "source": [
    "#Calculates and prints the average silhouette score for models with cluster size 2-max_cluster\n",
    "def silhouette_score(max_cluster)\n",
    "    for i in range(2, max_cluster):\n",
    "        model = KMeans(n_clusters = i)\n",
    "        model.fit(features)\n",
    "        labels = model.predict(features)\n",
    "        print(i, silhouette_score(features, labels))\n",
    "\n",
    "silhouette_score(21)"
   ]
  },
  {
   "cell_type": "code",
   "execution_count": 53,
   "metadata": {},
   "outputs": [],
   "source": [
    "#run model with optimal cluster number\n",
    "model = KMeans(n_clusters = 18)\n",
    "model.fit(features)\n",
    "\n",
    "labels = model.predict(features) #generate labels \n",
    "df_titles['Clusters'] = labels.tolist() #add labels to df "
   ]
  },
  {
   "cell_type": "code",
   "execution_count": 149,
   "metadata": {},
   "outputs": [
    {
     "data": {
      "text/plain": [
       "0     329\n",
       "4     100\n",
       "6      93\n",
       "2      79\n",
       "3      71\n",
       "5      68\n",
       "14     64\n",
       "11     64\n",
       "12     60\n",
       "8      56\n",
       "10     53\n",
       "15     52\n",
       "17     44\n",
       "13     41\n",
       "1      40\n",
       "16     32\n",
       "9      28\n",
       "7      26\n",
       "Name: Clusters, dtype: int64"
      ]
     },
     "execution_count": 149,
     "metadata": {},
     "output_type": "execute_result"
    }
   ],
   "source": [
    "df_titles['Clusters'].value_counts() #counts in each cluster\n",
    "\n"
   ]
  },
  {
   "cell_type": "code",
   "execution_count": 109,
   "metadata": {},
   "outputs": [],
   "source": [
    "df['Processed'] = processed_titles\n",
    "\n",
    "#returns a dictionary with the 10 most common words in each cluster \n",
    "def cluster_common_words(df, df_columns):\n",
    "    common_words_dict = {}\n",
    "    for i in range(0, 18):\n",
    "        titles = df_titles[df.values == i][df_columns]\n",
    "        #creates list of tuples of counts \n",
    "        common_words = collections.Counter(\" \".join(titles).split()).most_common(10) \n",
    "        #adds list of tuples to a dictionary \n",
    "        common_words_dict[i] = common_words \n",
    "    \n",
    "    return common_words_dict\n",
    "    "
   ]
  },
  {
   "cell_type": "code",
   "execution_count": 117,
   "metadata": {},
   "outputs": [
    {
     "data": {
      "text/plain": [
       "{0: [('model', 21),\n",
       "  ('base', 17),\n",
       "  ('human', 17),\n",
       "  ('respons', 15),\n",
       "  ('diseas', 14),\n",
       "  ('character', 14),\n",
       "  ('chang', 13),\n",
       "  ('detect', 12),\n",
       "  ('applic', 12),\n",
       "  ('correct', 12)],\n",
       " 1: [('review', 38),\n",
       "  ('systemat', 35),\n",
       "  ('metaanalysi', 20),\n",
       "  ('patient', 8),\n",
       "  ('associ', 6),\n",
       "  ('impact', 5),\n",
       "  ('scope', 5),\n",
       "  ('effect', 5),\n",
       "  ('children', 4),\n",
       "  ('diseas', 4)],\n",
       " 2: [('covid19', 34),\n",
       "  ('factor', 17),\n",
       "  ('patient', 16),\n",
       "  ('survey', 15),\n",
       "  ('global', 12),\n",
       "  ('studi', 11),\n",
       "  ('among', 9),\n",
       "  ('pandem', 9),\n",
       "  ('risk', 7),\n",
       "  ('social', 7)],\n",
       " 3: [('studi', 39),\n",
       "  ('control', 20),\n",
       "  ('associ', 20),\n",
       "  ('case', 13),\n",
       "  ('women', 5),\n",
       "  ('activ', 5),\n",
       "  ('data', 5),\n",
       "  ('patient', 5),\n",
       "  ('factor', 5),\n",
       "  ('individu', 4)],\n",
       " 4: [('studi', 42),\n",
       "  ('effect', 40),\n",
       "  ('cohort', 24),\n",
       "  ('diseas', 18),\n",
       "  ('chronic', 16),\n",
       "  ('patient', 14),\n",
       "  ('prospect', 13),\n",
       "  ('manag', 12),\n",
       "  ('kidney', 9),\n",
       "  ('hepat', 8)],\n",
       " 5: [('differ', 22),\n",
       "  ('cancer', 22),\n",
       "  ('screen', 9),\n",
       "  ('suscept', 9),\n",
       "  ('insight', 8),\n",
       "  ('gene', 7),\n",
       "  ('toward', 6),\n",
       "  ('breast', 6),\n",
       "  ('patient', 5),\n",
       "  ('associ', 5)],\n",
       " 6: [('health', 41),\n",
       "  ('use', 36),\n",
       "  ('studi', 17),\n",
       "  ('support', 14),\n",
       "  ('research', 9),\n",
       "  ('learn', 8),\n",
       "  ('assess', 8),\n",
       "  ('feasibl', 8),\n",
       "  ('servic', 8),\n",
       "  ('popul', 7)],\n",
       " 7: [('resist', 17),\n",
       "  ('bacteria', 5),\n",
       "  ('drug', 4),\n",
       "  ('mutat', 4),\n",
       "  ('sheep', 4),\n",
       "  ('antimicrobi', 4),\n",
       "  ('isol', 3),\n",
       "  ('pneumonia', 3),\n",
       "  ('associ', 3),\n",
       "  ('treatment', 3)],\n",
       " 8: [('cell', 68),\n",
       "  ('cancer', 11),\n",
       "  ('express', 9),\n",
       "  ('activ', 5),\n",
       "  ('inhibit', 5),\n",
       "  ('stem', 5),\n",
       "  ('protein', 5),\n",
       "  ('patient', 5),\n",
       "  ('nonsmal', 5),\n",
       "  ('lung', 5)],\n",
       " 9: [('analysi', 19),\n",
       "  ('india', 7),\n",
       "  ('childhood', 7),\n",
       "  ('factor', 4),\n",
       "  ('system', 3),\n",
       "  ('among', 3),\n",
       "  ('earli', 3),\n",
       "  ('birth', 3),\n",
       "  ('use', 2),\n",
       "  ('biochem', 2)],\n",
       " 10: [('among', 43),\n",
       "  ('ethiopia', 26),\n",
       "  ('studi', 14),\n",
       "  ('associ', 12),\n",
       "  ('hospit', 11),\n",
       "  ('student', 11),\n",
       "  ('univers', 11),\n",
       "  ('factor', 11),\n",
       "  ('crosssect', 8),\n",
       "  ('care', 8)],\n",
       " 11: [('develop', 20),\n",
       "  ('predict', 20),\n",
       "  ('valid', 19),\n",
       "  ('adult', 14),\n",
       "  ('model', 13),\n",
       "  ('use', 10),\n",
       "  ('diagnosi', 6),\n",
       "  ('ill', 6),\n",
       "  ('analysi', 6),\n",
       "  ('studi', 6)],\n",
       " 12: [('gene', 22),\n",
       "  ('analysi', 21),\n",
       "  ('express', 18),\n",
       "  ('reveal', 16),\n",
       "  ('patient', 16),\n",
       "  ('middl', 8),\n",
       "  ('alter', 7),\n",
       "  ('network', 6),\n",
       "  ('diabet', 5),\n",
       "  ('age', 4)],\n",
       " 13: [('age', 15),\n",
       "  ('level', 7),\n",
       "  ('live', 7),\n",
       "  ('associ', 6),\n",
       "  ('studi', 6),\n",
       "  ('effect', 5),\n",
       "  ('gender', 5),\n",
       "  ('canada', 5),\n",
       "  ('inequ', 5),\n",
       "  ('work', 5)],\n",
       " 14: [('improv', 15),\n",
       "  ('compar', 13),\n",
       "  ('clinic', 12),\n",
       "  ('studi', 12),\n",
       "  ('commun', 11),\n",
       "  ('train', 11),\n",
       "  ('result', 9),\n",
       "  ('patient', 7),\n",
       "  ('use', 7),\n",
       "  ('score', 6)],\n",
       " 15: [('china', 16),\n",
       "  ('evid', 10),\n",
       "  ('particip', 9),\n",
       "  ('correl', 8),\n",
       "  ('parent', 8),\n",
       "  ('intervent', 8),\n",
       "  ('program', 8),\n",
       "  ('base', 5),\n",
       "  ('among', 5),\n",
       "  ('studi', 5)],\n",
       " 16: [('loss', 12),\n",
       "  ('syndrom', 10),\n",
       "  ('metabol', 10),\n",
       "  ('hear', 7),\n",
       "  ('patient', 6),\n",
       "  ('associ', 5),\n",
       "  ('studi', 5),\n",
       "  ('differ', 5),\n",
       "  ('use', 5),\n",
       "  ('nationwid', 4)],\n",
       " 17: [('evalu', 26),\n",
       "  ('test', 15),\n",
       "  ('virtual', 5),\n",
       "  ('use', 5),\n",
       "  ('index', 4),\n",
       "  ('dog', 4),\n",
       "  ('hiv', 4),\n",
       "  ('implement', 3),\n",
       "  ('label', 3),\n",
       "  ('pediatr', 3)]}"
      ]
     },
     "execution_count": 117,
     "metadata": {},
     "output_type": "execute_result"
    }
   ],
   "source": [
    "cluster_common_words(df_titles, 'Processed')\n"
   ]
  }
 ],
 "metadata": {
  "kernelspec": {
   "display_name": "Python 3",
   "language": "python",
   "name": "python3"
  },
  "language_info": {
   "codemirror_mode": {
    "name": "ipython",
    "version": 3
   },
   "file_extension": ".py",
   "mimetype": "text/x-python",
   "name": "python",
   "nbconvert_exporter": "python",
   "pygments_lexer": "ipython3",
   "version": "3.7.3"
  }
 },
 "nbformat": 4,
 "nbformat_minor": 2
}
